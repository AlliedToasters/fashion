{
 "cells": [
  {
   "cell_type": "code",
   "execution_count": 1,
   "metadata": {},
   "outputs": [
    {
     "data": {
      "text/plain": [
       "'\\n!pip install pandas\\n!pip install keras\\n!pip install h5py\\n!pip install pillow\\n!pip install scikit-learn\\n!pip install matplotlib\\n!pip install requests\\n\\n!mkdir test_imgs train_imgs val_imgs\\n'"
      ]
     },
     "execution_count": 1,
     "metadata": {},
     "output_type": "execute_result"
    }
   ],
   "source": [
    "\"\"\"\n",
    "!pip install pandas\n",
    "!pip install keras\n",
    "!pip install h5py\n",
    "!pip install pillow\n",
    "!pip install scikit-learn\n",
    "!pip install matplotlib\n",
    "!pip install requests\n",
    "\n",
    "!mkdir test_imgs train_imgs val_imgs\n",
    "\"\"\""
   ]
  },
  {
   "cell_type": "code",
   "execution_count": 2,
   "metadata": {},
   "outputs": [
    {
     "name": "stderr",
     "output_type": "stream",
     "text": [
      "/home/alliedtoasters/miniconda3/envs/dev1/lib/python3.6/site-packages/h5py/__init__.py:36: FutureWarning: Conversion of the second argument of issubdtype from `float` to `np.floating` is deprecated. In future, it will be treated as `np.float64 == np.dtype(float).type`.\n",
      "  from ._conv import register_converters as _register_converters\n",
      "Using TensorFlow backend.\n"
     ]
    }
   ],
   "source": [
    "import pandas as pd\n",
    "import numpy as np\n",
    "from scipy.sparse import csr_matrix, save_npz, load_npz\n",
    "from sklearn.decomposition import TruncatedSVD\n",
    "import matplotlib.pyplot as plt\n",
    "from PIL import Image\n",
    "import requests\n",
    "from io import BytesIO\n",
    "import sys\n",
    "from capsulenet import CapsNet, margin_loss"
   ]
  },
  {
   "cell_type": "code",
   "execution_count": 3,
   "metadata": {},
   "outputs": [],
   "source": [
    "def parse_labels(lbls):\n",
    "    \"\"\"takes a string and returns list of numeric labels\"\"\"\n",
    "    result = lbls[2:][:-2]\n",
    "    result = result.split(\"', '\")\n",
    "    return result\n",
    "\n",
    "#!unzip train_imgs.csv.zip\n",
    "df = pd.read_csv('train_imgs.csv').copy()\n",
    "df.index = df.img_id.astype(int)\n",
    "\n",
    "def update_progress(progress):\n",
    "    \"\"\"Displays or updates a console progress bar\n",
    "    Accepts a float between 0 and 1. Any int will be converted to a float.\n",
    "    A value under 0 represents a 'halt'.\n",
    "    A value at 1 or bigger represents 100%\n",
    "    \"\"\"\n",
    "    barLength = 25 # Modify this to change the length of the progress bar\n",
    "    status = \"\"\n",
    "    if isinstance(progress, int):\n",
    "        progress = float(progress)\n",
    "    if not isinstance(progress, float):\n",
    "        progress = 0\n",
    "        status = \"error: progress var must be float\\r\\n\"\n",
    "    if progress < 0:\n",
    "        progress = 0\n",
    "        status = \"Halt...\\r\\n\"\n",
    "    if progress >= 1:\n",
    "        progress = 1\n",
    "        status = \"Done...\\r\\n\"\n",
    "    block = int(round(barLength*progress))\n",
    "    text = \"\\rProgress: [{0}] {1}% {2}\".format( \"#\"*block + \"-\"*(barLength-block), round(progress*100, 2), status)\n",
    "    sys.stdout.write(text)\n",
    "    sys.stdout.flush()\n",
    "\n",
    "def features_to_sparse(df, filename='sparse_features.npz'):\n",
    "    \"\"\"Converts labels to sparse matrix. Tries loading\n",
    "    file; if fails, does all the work and saves it (takes a bit.)\n",
    "    \"\"\"\n",
    "    try:\n",
    "        result = load_npz(filename)\n",
    "        return result\n",
    "    except:\n",
    "        print('file not found. Creating...')\n",
    "    total_rows = len(df)\n",
    "    row = []\n",
    "    col = []\n",
    "    data = []\n",
    "    for idx in df.index:\n",
    "        progress = idx/total_rows\n",
    "        update_progress(progress)\n",
    "        df_row = df.loc[idx]\n",
    "        labels = parse_labels(df_row.lbls)\n",
    "        for lbl in labels:\n",
    "            row.append(idx-1)\n",
    "            col.append(int(lbl)-1)\n",
    "            data.append(1)\n",
    "            \n",
    "    row, col, data = np.array(row), np.array(col), np.array(data)\n",
    "    result = csr_matrix((data, (row, col)), shape=(max(row)+1, max(col)+1))\n",
    "    save_npz(filename, result)\n",
    "    return result\n",
    "\n",
    "mat = features_to_sparse(df)"
   ]
  },
  {
   "cell_type": "code",
   "execution_count": 4,
   "metadata": {},
   "outputs": [],
   "source": [
    "totals = mat.sum(axis=0)\n",
    "totals = [totals[0, i] for i in range(228)]"
   ]
  },
  {
   "cell_type": "code",
   "execution_count": 5,
   "metadata": {},
   "outputs": [
    {
     "name": "stdout",
     "output_type": "stream",
     "text": [
      "43.83% of instances belong to top 10 classes.\n",
      "The top 10 classes are: \n",
      "[ 62  53 106 222  66 214  17 171 153 105]\n"
     ]
    }
   ],
   "source": [
    "n_classes = 10\n",
    "totals = np.array(totals)\n",
    "top_n = np.argpartition(totals, -n_classes)[-n_classes:]\n",
    "check = totals[top_n].copy()\n",
    "topn_frac = check.sum()/totals.sum()\n",
    "print('{}% of instances belong to top {} classes.'.format(round(topn_frac*100, 2), n_classes))\n",
    "print('The top {} classes are: '.format(n_classes))\n",
    "#add one because of zero indexing\n",
    "print(top_n + 1)"
   ]
  },
  {
   "cell_type": "code",
   "execution_count": 6,
   "metadata": {},
   "outputs": [
    {
     "data": {
      "image/png": "[encoded data removed]",
      "text/plain": [
       "<Figure size 648x432 with 1 Axes>"
      ]
     },
     "metadata": {},
     "output_type": "display_data"
    }
   ],
   "source": [
    "plt.figure(figsize=(9, 6));\n",
    "plt.bar(x=range(1,229), height=totals);\n",
    "plt.title('appearance frequency by class');"
   ]
  },
  {
   "cell_type": "code",
   "execution_count": 7,
   "metadata": {},
   "outputs": [
    {
     "data": {
      "image/png": "[encoded data removed]",
      "text/plain": [
       "<Figure size 648x432 with 1 Axes>"
      ]
     },
     "metadata": {},
     "output_type": "display_data"
    }
   ],
   "source": [
    "trunc_matrix = mat[:, top_n]\n",
    "plt.figure(figsize=(9,6))\n",
    "plt.hist(np.array(trunc_matrix.sum(axis=1))[:, 0], bins=7);\n",
    "plt.title('Top {} class co-occurence'.format(n_classes));\n",
    "plt.xlabel('number of top {} items in photo'.format(n_classes));\n",
    "plt.ylabel('number number of photos');"
   ]
  },
  {
   "cell_type": "code",
   "execution_count": 8,
   "metadata": {},
   "outputs": [
    {
     "data": {
      "text/plain": [
       "0.018174667633932093"
      ]
     },
     "execution_count": 8,
     "metadata": {},
     "output_type": "execute_result"
    }
   ],
   "source": [
    "len(np.argwhere(np.array(trunc_matrix.sum(axis=1))[:, 0]==0))/len(df)"
   ]
  },
  {
   "cell_type": "code",
   "execution_count": 9,
   "metadata": {},
   "outputs": [],
   "source": [
    "def download_image(url):\n",
    "    \"\"\"takes a url and returns a PIL image object.\"\"\"\n",
    "    try:\n",
    "        response = requests.get(url)\n",
    "    except:\n",
    "        print('request failed.')\n",
    "        return\n",
    "    if response.status_code in [403, 404]:\n",
    "        print('image not found.')\n",
    "        return\n",
    "    try:\n",
    "        img = Image.open(BytesIO(response.content))\n",
    "    except:\n",
    "        print('could not open image.')\n",
    "        return\n",
    "    return img\n",
    "\n",
    "def image_from_url(idx, df=df):\n",
    "    \"\"\"uses dataframe and index to lookup url\n",
    "    and returns PIL image.\"\"\"\n",
    "    row = df.loc[idx]\n",
    "    url = row['url']\n",
    "    image = download_image(url)\n",
    "    return image\n",
    "\n",
    "def image_from_disk(idx, df=df, path_to_images='./train_imgs/'):\n",
    "    \"\"\"Loads an image from disk according to index idx.\n",
    "    returns PIL image.\n",
    "    \"\"\"\n",
    "    file = path_to_images + str(idx) + '.png'\n",
    "    image = Image.open(file)\n",
    "    return image\n",
    "\n",
    "def image_as_tensor(image, xy_dims=(256, 256)):\n",
    "    \"\"\"takes a PIL image (image) and returns\n",
    "    a numpy array with shape xy_dims (color channels\n",
    "    last) scaled between 0 and 1.\n",
    "    \"\"\"\n",
    "    res = image.resize(xy_dims)\n",
    "    res = np.array(res)/255\n",
    "    return res\n",
    "\n",
    "def get_image(idx, filepath='./train_imgs/', df=df, xy_dims=(256, 256)):\n",
    "    \"\"\"attempts to load image from disk. If not found,\n",
    "    downloads and saves to disk.\"\"\"\n",
    "    try:\n",
    "        img = image_from_disk(idx, path_to_images=filepath)\n",
    "        return image_as_tensor(img)\n",
    "    except:\n",
    "        img = image_from_url(idx, df=df)\n",
    "        img = img.resize(xy_dims)\n",
    "        #img.save(filepath + str(idx) + '.png')\n",
    "        return image_as_tensor(img)\n",
    "    \n",
    "def input_batch(indices, filepath='./train_imgs/', df=df, xy_dims=(256, 256)):\n",
    "    \"\"\"Creates an input batch with given list of indices.\"\"\"\n",
    "    batch = []\n",
    "    for idx in indices:\n",
    "        batch.append(get_image(idx, filepath=filepath, df=df, xy_dims=xy_dims))\n",
    "    batch = np.array(batch)\n",
    "    return batch\n",
    "    \n",
    "def output_batch(indices, matrix=trunc_matrix, n_placeholders=2):\n",
    "    \"\"\"Creates an output batch with given list of indices.\"\"\"\n",
    "    batch = []\n",
    "    for idx in indices:\n",
    "        label_array = trunc_matrix[idx,:].toarray()[0,:]\n",
    "        to_append = np.ones(n_placeholders)\n",
    "        final_array = np.append(label_array, to_append)\n",
    "        batch.append(final_array)\n",
    "    batch = np.array(batch)\n",
    "    return batch"
   ]
  },
  {
   "cell_type": "code",
   "execution_count": 11,
   "metadata": {},
   "outputs": [
    {
     "name": "stdout",
     "output_type": "stream",
     "text": [
      "Progress: [-------------------------] 0.0% found some shit.\n",
      "Progress: [-------------------------] 0.01% found some shit.\n",
      "Progress: [-------------------------] 0.01% "
     ]
    }
   ],
   "source": [
    "shit_img = np.load('shit_img.npy')\n",
    "\n",
    "def classify_ideal_images(df=df, model_path='ideal_classidier.h5', batch_size=1000, shit_img=shit_img):\n",
    "    \"\"\"Applies classifier model to images in df and returns a prediction vector\n",
    "    of length len(df)\"\"\"\n",
    "    from keras.models import load_model\n",
    "    model = load_model(model_path)\n",
    "    result = np.array([])\n",
    "    batch_begin = 1\n",
    "    batch_end = batch_begin + batch_size\n",
    "    while batch_begin < max(df.index):\n",
    "        progress = batch_begin/len(df)\n",
    "        update_progress(progress)\n",
    "        indices = [i for i in range(batch_begin, batch_end)]\n",
    "        batch_begin += batch_size\n",
    "        batch_end += min(batch_size, len(df)-batch_end)\n",
    "        batch = input_batch(indices)\n",
    "        prediction = model.predict(batch)\n",
    "        for n, pred in enumerate(prediction):\n",
    "            if np.array_equal(batch[n, :, :, :], shit_img):\n",
    "                print('found some shit.')\n",
    "                prediction[n, 0] = 0\n",
    "        result = np.append(result, prediction)\n",
    "        np.save('ideal_image_classes.npy', result)\n",
    "    return result\n",
    "\n",
    "result = classify_ideal_images()\n",
    "np.save('images_ideal.npy', result)"
   ]
  }
 ],
 "metadata": {
  "kernelspec": {
   "display_name": "Python [conda env:dev1]",
   "language": "python",
   "name": "conda-env-dev1-py"
  },
  "language_info": {
   "codemirror_mode": {
    "name": "ipython",
    "version": 3
   },
   "file_extension": ".py",
   "mimetype": "text/x-python",
   "name": "python",
   "nbconvert_exporter": "python",
   "pygments_lexer": "ipython3",
   "version": "3.6.4"
  }
 },
 "nbformat": 4,
 "nbformat_minor": 2
}
